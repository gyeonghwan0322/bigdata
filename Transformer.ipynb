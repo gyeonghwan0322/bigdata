{
 "cells": [
  {
   "cell_type": "code",
   "execution_count": null,
   "id": "initial_id",
   "metadata": {
    "collapsed": true
   },
   "outputs": [],
   "source": [
    "# 데이터 준비는 LSTM 모델과 동일\n",
    "# 앞서 정의한 X_dict, y_dict를 사용\n"
   ]
  },
  {
   "metadata": {},
   "cell_type": "code",
   "outputs": [],
   "execution_count": null,
   "source": [
    "from tensorflow.keras.layers import Input, Dense, LayerNormalization, MultiHeadAttention, Dropout, Flatten\n",
    "from tensorflow.keras.models import Model\n",
    "\n",
    "def create_transformer_model(input_shape):\n",
    "    inputs = Input(shape=input_shape)\n",
    "    x = LayerNormalization(epsilon=1e-6)(inputs)\n",
    "    x = MultiHeadAttention(num_heads=4, key_dim=32)(x, x)\n",
    "    x = Dropout(0.1)(x)\n",
    "    x = LayerNormalization(epsilon=1e-6)(x)\n",
    "    x = Flatten()(x)\n",
    "    outputs = Dense(1)(x)\n",
    "    model = Model(inputs=inputs, outputs=outputs)\n",
    "    model.compile(optimizer='adam', loss='mean_squared_error')\n",
    "    return model\n"
   ],
   "id": "3eceaf874cfcf157"
  },
  {
   "metadata": {},
   "cell_type": "code",
   "outputs": [],
   "execution_count": null,
   "source": [
    "# 모델 저장을 위한 딕셔너리\n",
    "models = {}\n",
    "\n",
    "for asset in asset_list:\n",
    "    X = X_dict[asset]\n",
    "    y = y_dict[asset]\n",
    "    \n",
    "    # 데이터 분할 (80% 학습, 20% 검증)\n",
    "    train_size = int(len(X) * 0.8)\n",
    "    X_train, X_test = X[:train_size], X[train_size:]\n",
    "    y_train, y_test = y[:train_size], y[train_size:]\n",
    "    \n",
    "    # Transformer 입력 형태로 변환\n",
    "    X_train = np.reshape(X_train, (X_train.shape[0], X_train.shape[1], 1))\n",
    "    X_test = np.reshape(X_test, (X_test.shape[0], X_test.shape[1], 1))\n",
    "    \n",
    "    # Transformer 모델 구축\n",
    "    model = create_transformer_model(input_shape=(look_back, 1))\n",
    "    \n",
    "    # 조기 종료 콜백 설정\n",
    "    early_stop = EarlyStopping(monitor='val_loss', patience=5)\n",
    "    \n",
    "    # 모델 학습\n",
    "    model.fit(X_train, y_train, epochs=epochs, batch_size=batch_size, validation_data=(X_test, y_test), callbacks=[early_stop], verbose=0)\n",
    "    \n",
    "    # 모델 저장\n",
    "    models[asset] = model\n"
   ],
   "id": "36251f3325a24081"
  },
  {
   "metadata": {},
   "cell_type": "code",
   "outputs": [],
   "execution_count": null,
   "source": [
    "predicted_returns = {}\n",
    "\n",
    "for asset in asset_list:\n",
    "    X = X_dict[asset]\n",
    "    y = y_dict[asset]\n",
    "    \n",
    "    # 전체 데이터를 사용하여 예측 수행\n",
    "    X_all = np.reshape(X, (X.shape[0], X.shape[1], 1))\n",
    "    model = models[asset]\n",
    "    predictions = model.predict(X_all)\n",
    "    \n",
    "    # 역스케일링\n",
    "    scaler = scalers[asset]\n",
    "    predictions = scaler.inverse_transform(predictions)\n",
    "    actual = scaler.inverse_transform(y.reshape(-1, 1))\n",
    "    \n",
    "    # 마지막 예측 값 저장\n",
    "    predicted_returns[asset] = predictions[-1][0]\n",
    "    \n",
    "    # 모델 평가 (원한다면)\n",
    "    # mse = mean_squared_error(actual, predictions)\n",
    "    # print(f\"{asset} - MSE: {mse}\")\n"
   ],
   "id": "4794d3a9b2a0aa92"
  },
  {
   "metadata": {},
   "cell_type": "code",
   "outputs": [],
   "execution_count": null,
   "source": [
    "# 위험 허용도 설정 (0에 가까울수록 보수적)\n",
    "risk_tolerance = 0.2\n",
    "\n",
    "# 변동성 계산\n",
    "volatility = returns.std()\n",
    "\n",
    "# 예상 수익률 데이터프레임 생성\n",
    "predicted_returns_df = pd.DataFrame({\n",
    "    'predicted_return': predicted_returns,\n",
    "    'volatility': volatility\n",
    "})\n",
    "\n",
    "# 위험 대비 수익률 계산\n",
    "predicted_returns_df['adjusted_score'] = predicted_returns_df['predicted_return'] / predicted_returns_df['volatility'] * risk_tolerance\n",
    "\n",
    "# 가중치 계산 및 정규화\n",
    "predicted_returns_df['weight'] = predicted_returns_df['adjusted_score'] / predicted_returns_df['adjusted_score'].sum()\n",
    "\n",
    "# 추천 포트폴리오 출력\n",
    "recommended_portfolio = predicted_returns_df[['predicted_return', 'volatility', 'weight']]\n",
    "print(\"추천 포트폴리오 구성:\")\n",
    "print(recommended_portfolio.sort_values('weight', ascending=False))\n"
   ],
   "id": "fffb06a38efe29ae"
  },
  {
   "metadata": {},
   "cell_type": "code",
   "outputs": [],
   "execution_count": null,
   "source": "",
   "id": "e6dd68c2584ace8d"
  },
  {
   "metadata": {},
   "cell_type": "code",
   "outputs": [],
   "execution_count": null,
   "source": "",
   "id": "14fcc381f492ab07"
  },
  {
   "metadata": {},
   "cell_type": "code",
   "outputs": [],
   "execution_count": null,
   "source": "",
   "id": "2169e338f34ccd98"
  },
  {
   "metadata": {},
   "cell_type": "code",
   "outputs": [],
   "execution_count": null,
   "source": "",
   "id": "c2440fc251d43bb5"
  },
  {
   "metadata": {},
   "cell_type": "code",
   "outputs": [],
   "execution_count": null,
   "source": "",
   "id": "ddd15fd0f7206811"
  }
 ],
 "metadata": {
  "kernelspec": {
   "display_name": "Python 3",
   "language": "python",
   "name": "python3"
  },
  "language_info": {
   "codemirror_mode": {
    "name": "ipython",
    "version": 2
   },
   "file_extension": ".py",
   "mimetype": "text/x-python",
   "name": "python",
   "nbconvert_exporter": "python",
   "pygments_lexer": "ipython2",
   "version": "2.7.6"
  }
 },
 "nbformat": 4,
 "nbformat_minor": 5
}
