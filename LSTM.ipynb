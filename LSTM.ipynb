{
 "cells": [
  {
   "cell_type": "code",
   "execution_count": null,
   "id": "initial_id",
   "metadata": {
    "collapsed": true
   },
   "outputs": [],
   "source": [
    "# 필요한 라이브러리 임포트\n",
    "import pandas as pd\n",
    "import numpy as np\n",
    "import matplotlib.pyplot as plt\n",
    "import seaborn as sns\n",
    "\n",
    "import yfinance as yf\n",
    "\n",
    "from sklearn.preprocessing import MinMaxScaler\n",
    "from sklearn.metrics import mean_squared_error, mean_absolute_error\n",
    "\n",
    "import tensorflow as tf\n",
    "from tensorflow.keras.models import Sequential\n",
    "from tensorflow.keras.layers import LSTM, Dense, Dropout\n",
    "from tensorflow.keras.callbacks import EarlyStopping\n"
   ]
  },
  {
   "metadata": {},
   "cell_type": "code",
   "outputs": [],
   "execution_count": null,
   "source": [
    "# 자산 리스트\n",
    "asset_list = [\n",
    "    'SPY', 'AGG', 'GLD', 'XLU', 'XLV',\n",
    "    'TLT', 'IYR', 'TIP', 'BND', 'LQD'\n",
    "]\n",
    "\n",
    "# 데이터 수집\n",
    "start_date = '2010-01-01'\n",
    "end_date = '2023-10-01'\n",
    "price_data = yf.download(asset_list, start=start_date, end=end_date)['Adj Close']\n",
    "price_data = price_data.fillna(method='ffill').fillna(method='bfill')\n"
   ],
   "id": "a2625a648d2827af"
  },
  {
   "metadata": {},
   "cell_type": "code",
   "outputs": [],
   "execution_count": null,
   "source": [
    "# 수익률 계산\n",
    "returns = price_data.pct_change().dropna()\n",
    "\n",
    "# 스케일링\n",
    "scalers = {}\n",
    "scaled_returns = pd.DataFrame(index=returns.index)\n",
    "\n",
    "for asset in asset_list:\n",
    "    scaler = MinMaxScaler(feature_range=(0, 1))\n",
    "    scaled_data = scaler.fit_transform(returns[[asset]])\n",
    "    scaled_returns[asset] = scaled_data.flatten()\n",
    "    scalers[asset] = scaler  # 나중에 역스케일링을 위해 저장\n"
   ],
   "id": "916064a89dd22ef"
  },
  {
   "metadata": {},
   "cell_type": "code",
   "outputs": [],
   "execution_count": null,
   "source": [
    "def create_dataset(dataset, look_back=60):\n",
    "    X, Y = [], []\n",
    "    for i in range(len(dataset) - look_back):\n",
    "        X.append(dataset[i:(i + look_back)])\n",
    "        Y.append(dataset[i + look_back])\n",
    "    return np.array(X), np.array(Y)\n",
    "\n",
    "look_back = 60  # 과거 60일의 데이터를 사용\n",
    "\n",
    "X_dict = {}\n",
    "y_dict = {}\n",
    "\n",
    "for asset in asset_list:\n",
    "    data = scaled_returns[asset].values\n",
    "    X, y = create_dataset(data, look_back)\n",
    "    X_dict[asset] = X\n",
    "    y_dict[asset] = y\n"
   ],
   "id": "83f0fb5161eefc5"
  },
  {
   "metadata": {},
   "cell_type": "code",
   "outputs": [],
   "execution_count": null,
   "source": [
    "# 모델 학습을 위한 설정\n",
    "batch_size = 32\n",
    "epochs = 20\n",
    "\n",
    "# 모델 저장을 위한 딕셔너리\n",
    "models = {}\n",
    "\n",
    "for asset in asset_list:\n",
    "    X = X_dict[asset]\n",
    "    y = y_dict[asset]\n",
    "    \n",
    "    # 데이터 분할 (80% 학습, 20% 검증)\n",
    "    train_size = int(len(X) * 0.8)\n",
    "    X_train, X_test = X[:train_size], X[train_size:]\n",
    "    y_train, y_test = y[:train_size], y[train_size:]\n",
    "    \n",
    "    # LSTM 입력 형태로 변환\n",
    "    X_train = np.reshape(X_train, (X_train.shape[0], X_train.shape[1], 1))\n",
    "    X_test = np.reshape(X_test, (X_test.shape[0], X_test.shape[1], 1))\n",
    "    \n",
    "    # LSTM 모델 구축\n",
    "    model = Sequential()\n",
    "    model.add(LSTM(50, input_shape=(look_back, 1)))\n",
    "    model.add(Dense(1))\n",
    "    model.compile(loss='mean_squared_error', optimizer='adam')\n",
    "    \n",
    "    # 조기 종료 콜백 설정\n",
    "    early_stop = EarlyStopping(monitor='val_loss', patience=5)\n",
    "    \n",
    "    # 모델 학습\n",
    "    model.fit(X_train, y_train, epochs=epochs, batch_size=batch_size, validation_data=(X_test, y_test), callbacks=[early_stop], verbose=0)\n",
    "    \n",
    "    # 모델 저장\n",
    "    models[asset] = model\n"
   ],
   "id": "ac469e23bd378023"
  },
  {
   "metadata": {},
   "cell_type": "code",
   "outputs": [],
   "execution_count": null,
   "source": [
    "predicted_returns = {}\n",
    "\n",
    "for asset in asset_list:\n",
    "    X = X_dict[asset]\n",
    "    y = y_dict[asset]\n",
    "    \n",
    "    # 전체 데이터를 사용하여 예측 수행\n",
    "    X_all = np.reshape(X, (X.shape[0], X.shape[1], 1))\n",
    "    model = models[asset]\n",
    "    predictions = model.predict(X_all)\n",
    "    \n",
    "    # 역스케일링\n",
    "    scaler = scalers[asset]\n",
    "    predictions = scaler.inverse_transform(predictions)\n",
    "    actual = scaler.inverse_transform(y.reshape(-1, 1))\n",
    "    \n",
    "    # 마지막 예측 값 저장\n",
    "    predicted_returns[asset] = predictions[-1][0]\n",
    "    \n",
    "    # 모델 평가 (원한다면)\n",
    "    # mse = mean_squared_error(actual, predictions)\n",
    "    # print(f\"{asset} - MSE: {mse}\")\n"
   ],
   "id": "267350fc4cdc500c"
  },
  {
   "metadata": {},
   "cell_type": "code",
   "outputs": [],
   "execution_count": null,
   "source": [
    "# 위험 허용도 설정 (0에 가까울수록 보수적)\n",
    "risk_tolerance = 0.2\n",
    "\n",
    "# 변동성 계산\n",
    "volatility = returns.std()\n",
    "\n",
    "# 예상 수익률 데이터프레임 생성\n",
    "predicted_returns_df = pd.DataFrame({\n",
    "    'predicted_return': predicted_returns,\n",
    "    'volatility': volatility\n",
    "})\n",
    "\n",
    "# 위험 대비 수익률 계산\n",
    "predicted_returns_df['adjusted_score'] = predicted_returns_df['predicted_return'] / predicted_returns_df['volatility'] * risk_tolerance\n",
    "\n",
    "# 가중치 계산 및 정규화\n",
    "predicted_returns_df['weight'] = predicted_returns_df['adjusted_score'] / predicted_returns_df['adjusted_score'].sum()\n",
    "\n",
    "# 추천 포트폴리오 출력\n",
    "recommended_portfolio = predicted_returns_df[['predicted_return', 'volatility', 'weight']]\n",
    "print(\"추천 포트폴리오 구성:\")\n",
    "print(recommended_portfolio.sort_values('weight', ascending=False))\n"
   ],
   "id": "411b165f3277ed4d"
  },
  {
   "metadata": {},
   "cell_type": "markdown",
   "source": "",
   "id": "4ccbbf1f061461a9"
  },
  {
   "metadata": {},
   "cell_type": "markdown",
   "source": [
    "3. 추가적인 고려사항 및 개선 방안\n",
    "3.1. 모델 성능 향상\n",
    "하이퍼파라미터 튜닝: look_back, batch_size, epochs, num_heads, key_dim 등의 하이퍼파라미터를 조정하여 모델 성능을 향상시킬 수 있습니다.\n",
    "교차 검증: 시계열 교차 검증 방법을 사용하여 모델의 일반화 성능을 평가할 수 있습니다.\n",
    "피처 엔지니어링: 기술적 지표(MA, RSI 등)나 거시경제 지표를 추가하여 모델의 입력으로 사용하면 예측 성능이 향상될 수 있습니다.\n",
    "3.2. 모델 비교 및 선택\n",
    "LSTM과 Transformer 모델을 모두 적용하여 성능을 비교하고, 더 나은 모델을 선택할 수 있습니다.\n",
    "모델 평가 지표로 MSE, MAE, MAPE 등을 사용하여 모델의 예측 정확도를 확인합니다.\n",
    "3.3. 멀티 아웃풋 모델\n",
    "각 자산별로 개별 모델을 학습하는 대신, 여러 자산의 수익률을 동시에 예측하는 멀티 아웃풋 모델을 구축할 수 있습니다.\n",
    "이는 자산 간의 상관관계를 학습하는 데 도움이 될 수 있습니다.\n",
    "3.4. 실시간 시스템 구축\n",
    "모델을 주기적으로 재학습하거나 업데이트하여 최신 데이터를 반영할 수 있습니다.\n",
    "새로운 데이터가 들어올 때마다 예측을 업데이트하여 포트폴리오를 동적으로 조정합니다."
   ],
   "id": "69ae6023a57f8e4e"
  },
  {
   "metadata": {},
   "cell_type": "code",
   "outputs": [],
   "execution_count": null,
   "source": "",
   "id": "955f98bd116966ff"
  }
 ],
 "metadata": {
  "kernelspec": {
   "display_name": "Python 3",
   "language": "python",
   "name": "python3"
  },
  "language_info": {
   "codemirror_mode": {
    "name": "ipython",
    "version": 2
   },
   "file_extension": ".py",
   "mimetype": "text/x-python",
   "name": "python",
   "nbconvert_exporter": "python",
   "pygments_lexer": "ipython2",
   "version": "2.7.6"
  }
 },
 "nbformat": 4,
 "nbformat_minor": 5
}
